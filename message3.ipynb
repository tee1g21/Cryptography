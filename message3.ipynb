{
 "cells": [
  {
   "cell_type": "markdown",
   "metadata": {},
   "source": [
    "# Message 3"
   ]
  },
  {
   "cell_type": "code",
   "execution_count": 3,
   "metadata": {},
   "outputs": [
    {
     "name": "stderr",
     "output_type": "stream",
     "text": [
      "[nltk_data] Downloading package words to\n",
      "[nltk_data]     C:\\Users\\tomev\\AppData\\Roaming\\nltk_data...\n",
      "[nltk_data]   Package words is already up-to-date!\n"
     ]
    }
   ],
   "source": [
    "## import necessary modules including english words\n",
    "import math\n",
    "import string \n",
    "import nltk\n",
    "nltk.download('words')\n",
    "from nltk.corpus import words as english_words\n",
    "import enchant\n",
    "english = enchant.Dict(\"en_UK\")\n",
    "import random\n",
    "from itertools import permutations"
   ]
  },
  {
   "cell_type": "code",
   "execution_count": 2,
   "metadata": {},
   "outputs": [],
   "source": [
    "m3 = \"osasangnftrunsnahtfiwettarawctteeilthomyeonsbasgriiueorw\"\n",
    "\n",
    "## answer = \"continents shift at about the same rate as your finger nail grows ww\"\n",
    "\n"
   ]
  },
  {
   "cell_type": "markdown",
   "metadata": {},
   "source": [
    "# Rail Fence Cipher"
   ]
  },
  {
   "cell_type": "code",
   "execution_count": null,
   "metadata": {},
   "outputs": [],
   "source": [
    "## helper functions\n",
    "def rail_pattern(n, key):\n",
    "    if key == 1:\n",
    "        return [0] * n\n",
    "    period = 2 * (key - 1)\n",
    "    pattern = []\n",
    "    for i in range(n):\n",
    "        r = i % period\n",
    "        # r goes from 0 up to key-1, then back down\n",
    "        pattern.append(r if r < key else period - r)\n",
    "    return pattern\n",
    "\n",
    "# print the rails for analysis\n",
    "def pretty_print_rails(rails):\n",
    "    key = len(rails)\n",
    "    n = sum(len(rail) for rail in rails)  # Total number of characters\n",
    "    period = 2 * (key - 1)  # The cycle length in the zigzag pattern\n",
    "    \n",
    "    # Generate the rail pattern\n",
    "    pattern = rail_pattern(n, key)\n",
    "\n",
    "    # Create an empty grid filled with underscores\n",
    "    grid = [['_' for _ in range(n)] for _ in range(key)]\n",
    "\n",
    "    # Place characters in the correct positions\n",
    "    char_index = 0\n",
    "    for col, row in enumerate(pattern):\n",
    "        if rails[row]:\n",
    "            grid[row][col] = rails[row].pop(0)  # Remove the first element from the rail\n",
    "\n",
    "    # Print each row as a formatted string\n",
    "    for row in grid:\n",
    "        print(\" \".join(row))"
   ]
  },
  {
   "cell_type": "code",
   "execution_count": 8,
   "metadata": {},
   "outputs": [
    {
     "name": "stdout",
     "output_type": "stream",
     "text": [
      "Message: osasangnftrunsnahtfiwettarawctteeilthomyeonsbasgriiueorw\n",
      "\n",
      "Key: 2\n",
      "o _ s _ a _ s _ a _ n _ g _ n _ f _ t _ r _ u _ n _ s _ n _ a _ h _ t _ f _ i _ w _ e _ t _ t _ a _ r _ a _ w _\n",
      "_ c _ t _ t _ e _ e _ i _ l _ t _ h _ o _ m _ y _ e _ o _ n _ s _ b _ a _ s _ g _ r _ i _ i _ u _ e _ o _ r _ w\n",
      "Message: osasangnftrunsnahtfiwettarawctteeilthomyeonsbasgriiueorw\n",
      "Plaintext: ocstatseaeniglntfhtormuynesonnashbtafsigwreitituaeroarww\n",
      "\n",
      "Key: 3\n",
      "o _ _ _ s _ _ _ a _ _ _ s _ _ _ a _ _ _ n _ _ _ g _ _ _ n _ _ _ f _ _ _ t _ _ _ r _ _ _ u _ _ _ n _ _ _ s _ _ _\n",
      "_ n _ a _ h _ t _ f _ i _ w _ e _ t _ t _ a _ r _ a _ w _ c _ t _ t _ e _ e _ i _ l _ t _ h _ o _ m _ y _ e _ o\n",
      "_ _ n _ _ _ s _ _ _ b _ _ _ a _ _ _ s _ _ _ g _ _ _ r _ _ _ i _ _ _ i _ _ _ u _ _ _ e _ _ _ o _ _ _ r _ _ _ w _\n",
      "Message: osasangnftrunsnahtfiwettarawctteeilthomyeonsbasgriiueorw\n",
      "Plaintext: onnashstafbiswaeatstnagrgarwncitftieteuirletuhoonmrysewo\n",
      "\n",
      "Key: 4\n",
      "o _ _ _ _ _ s _ _ _ _ _ a _ _ _ _ _ s _ _ _ _ _ a _ _ _ _ _ n _ _ _ _ _ g _ _ _ _ _ n _ _ _ _ _ f _ _ _ _ _ t _\n",
      "_ r _ _ _ u _ n _ _ _ s _ n _ _ _ a _ h _ _ _ t _ f _ _ _ i _ w _ _ _ e _ t _ _ _ t _ a _ _ _ r _ a _ _ _ w _ c\n",
      "_ _ t _ t _ _ _ e _ e _ _ _ i _ l _ _ _ t _ h _ _ _ o _ m _ _ _ y _ e _ _ _ o _ n _ _ _ s _ b _ _ _ a _ s _ _ _\n",
      "_ _ _ g _ _ _ _ _ r _ _ _ _ _ i _ _ _ _ _ i _ _ _ _ _ u _ _ _ _ _ e _ _ _ _ _ o _ _ _ _ _ r _ _ _ _ _ w _ _ _ _\n",
      "Message: osasangnftrunsnahtfiwettarawctteeilthomyeonsbasgriiueorw\n",
      "Plaintext: ortgtusneresaniilashtihtafouminwyeeegtoontnasrbrfaawswtc\n",
      "\n",
      "Key: 5\n",
      "o _ _ _ _ _ _ _ s _ _ _ _ _ _ _ a _ _ _ _ _ _ _ s _ _ _ _ _ _ _ a _ _ _ _ _ _ _ n _ _ _ _ _ _ _ g _ _ _ _ _ _ _\n",
      "_ n _ _ _ _ _ f _ t _ _ _ _ _ r _ u _ _ _ _ _ n _ s _ _ _ _ _ n _ a _ _ _ _ _ h _ t _ _ _ _ _ f _ i _ _ _ _ _ w\n",
      "_ _ e _ _ _ t _ _ _ t _ _ _ a _ _ _ r _ _ _ a _ _ _ w _ _ _ c _ _ _ t _ _ _ t _ _ _ e _ _ _ e _ _ _ i _ _ _ l _\n",
      "_ _ _ t _ h _ _ _ _ _ o _ m _ _ _ _ _ y _ e _ _ _ _ _ o _ n _ _ _ _ _ s _ b _ _ _ _ _ a _ s _ _ _ _ _ g _ r _ _\n",
      "_ _ _ _ i _ _ _ _ _ _ _ i _ _ _ _ _ _ _ u _ _ _ _ _ _ _ e _ _ _ _ _ _ _ o _ _ _ _ _ _ _ r _ _ _ _ _ _ _ w _ _ _\n",
      "Message: osasangnftrunsnahtfiwettarawctteeilthomyeonsbasgriiueorw\n",
      "Plaintext: onetihtfsttoimarauryueansswoencnaatsobthntearsefgiigwrlw\n",
      "\n",
      "Key: 6\n",
      "o _ _ _ _ _ _ _ _ _ s _ _ _ _ _ _ _ _ _ a _ _ _ _ _ _ _ _ _ s _ _ _ _ _ _ _ _ _ a _ _ _ _ _ _ _ _ _ n _ _ _ _ _\n",
      "_ g _ _ _ _ _ _ _ n _ f _ _ _ _ _ _ _ t _ r _ _ _ _ _ _ _ u _ n _ _ _ _ _ _ _ s _ n _ _ _ _ _ _ _ a _ h _ _ _ _\n",
      "_ _ t _ _ _ _ _ f _ _ _ i _ _ _ _ _ w _ _ _ e _ _ _ _ _ t _ _ _ t _ _ _ _ _ a _ _ _ r _ _ _ _ _ a _ _ _ w _ _ _\n",
      "_ _ _ c _ _ _ t _ _ _ _ _ t _ _ _ e _ _ _ _ _ e _ _ _ i _ _ _ _ _ l _ _ _ t _ _ _ _ _ h _ _ _ o _ _ _ _ _ m _ _\n",
      "_ _ _ _ y _ e _ _ _ _ _ _ _ o _ n _ _ _ _ _ _ _ s _ b _ _ _ _ _ _ _ a _ s _ _ _ _ _ _ _ g _ r _ _ _ _ _ _ _ i _\n",
      "_ _ _ _ _ i _ _ _ _ _ _ _ _ _ u _ _ _ _ _ _ _ _ _ e _ _ _ _ _ _ _ _ _ o _ _ _ _ _ _ _ _ _ r _ _ _ _ _ _ _ _ _ w\n",
      "Message: osasangnftrunsnahtfiwettarawctteeilthomyeonsbasgriiueorw\n",
      "Plaintext: ogtcyietfnsfitounewtareesebitusntlaostasanrhgrroaanhwmiw\n",
      "\n",
      "Key: 7\n",
      "o _ _ _ _ _ _ _ _ _ _ _ s _ _ _ _ _ _ _ _ _ _ _ a _ _ _ _ _ _ _ _ _ _ _ s _ _ _ _ _ _ _ _ _ _ _ a _ _ _ _ _ _ _\n",
      "_ n _ _ _ _ _ _ _ _ _ g _ n _ _ _ _ _ _ _ _ _ f _ t _ _ _ _ _ _ _ _ _ r _ u _ _ _ _ _ _ _ _ _ n _ s _ _ _ _ _ _\n",
      "_ _ n _ _ _ _ _ _ _ a _ _ _ h _ _ _ _ _ _ _ t _ _ _ f _ _ _ _ _ _ _ i _ _ _ w _ _ _ _ _ _ _ e _ _ _ t _ _ _ _ _\n",
      "_ _ _ t _ _ _ _ _ a _ _ _ _ _ r _ _ _ _ _ a _ _ _ _ _ w _ _ _ _ _ c _ _ _ _ _ t _ _ _ _ _ t _ _ _ _ _ e _ _ _ _\n",
      "_ _ _ _ e _ _ _ i _ _ _ _ _ _ _ l _ _ _ t _ _ _ _ _ _ _ h _ _ _ o _ _ _ _ _ _ _ m _ _ _ y _ _ _ _ _ _ _ e _ _ _\n",
      "_ _ _ _ _ o _ n _ _ _ _ _ _ _ _ _ s _ b _ _ _ _ _ _ _ _ _ a _ s _ _ _ _ _ _ _ _ _ g _ r _ _ _ _ _ _ _ _ _ i _ i\n",
      "_ _ _ _ _ _ u _ _ _ _ _ _ _ _ _ _ _ e _ _ _ _ _ _ _ _ _ _ _ o _ _ _ _ _ _ _ _ _ _ _ r _ _ _ _ _ _ _ _ _ _ _ w _\n",
      "Message: osasangnftrunsnahtfiwettarawctteeilthomyeonsbasgriiueorw\n",
      "Plaintext: onnteouniaagsnhrlsebtatfatfwhaosocirsuwtmgrrytenasteeiwi\n"
     ]
    }
   ],
   "source": [
    "## rail cipher\n",
    "\n",
    "max_k = 7\n",
    "n = len(m3)\n",
    "print(\"Message:\", m3)\n",
    "for key in range(2, max_k+1):\n",
    "    \n",
    "    print(\"\\nKey:\",key)\n",
    "    \n",
    "    pattern = rail_pattern(n, key)\n",
    "    # Count how many characters belong to each rail.\n",
    "    rail_counts = [pattern.count(r) for r in range(key)]\n",
    "    \n",
    "    # Split the ciphertext into rails according to the counts.\n",
    "    rails = []\n",
    "    pos = 0\n",
    "    for count in rail_counts:\n",
    "        rails.append(list(m3[pos:pos+count]))\n",
    "        pos += count\n",
    "\n",
    "    # Use a copy of rails so that pretty_print_rails doesn't modify the original rails.\n",
    "    pretty_print_rails([r.copy() for r in rails])\n",
    "    \n",
    "    # Reconstruct the plaintext by reading the rails in zigzag order.\n",
    "    plaintext_chars = []\n",
    "    for r in pattern:\n",
    "        plaintext_chars.append(rails[r].pop(0))\n",
    "    \n",
    "    plaintext = \"\".join(plaintext_chars)\n",
    "    print(\"Message:\",m3)\n",
    "    print(\"Plaintext:\",plaintext)"
   ]
  },
  {
   "cell_type": "markdown",
   "metadata": {},
   "source": [
    "## Columnar Transposition Cipher"
   ]
  },
  {
   "cell_type": "code",
   "execution_count": 72,
   "metadata": {},
   "outputs": [],
   "source": [
    "## helper functions\n",
    "\n",
    "# print columns to terminal\n",
    "def pretty_print(columns, headless= False, idx=False, acronym=None):\n",
    "    width = len(columns)\n",
    "    height = len(columns[0])\n",
    "    if headless == False:\n",
    "        if acronym == None:\n",
    "            print(str(width) + \" columns:\")\n",
    "        else:\n",
    "            print(\"Word:\", acronym)\n",
    "        \n",
    "    for y in range(height):\n",
    "        line = \"\"\n",
    "        for x in range(width):\n",
    "            line += columns[x][y] + \" : \" \n",
    "        line = line[:-2]\n",
    "        if idx: \n",
    "            if y < 10:\n",
    "                print(str(y)+\" \",\"|\", end=\" \")\n",
    "            else:\n",
    "                print(str(y),\"|\", end=\" \")\n",
    "            \n",
    "        print(line)\n",
    "\n",
    "# generate column structure\n",
    "def generate_columns(m, w, h):\n",
    "    columns = [[] for _ in range(w)]\n",
    "    for i in range(w):\n",
    "        for j in range(h):\n",
    "            columns[i].append(m[i*h+j]) \n",
    "    return columns"
   ]
  },
  {
   "cell_type": "code",
   "execution_count": 59,
   "metadata": {},
   "outputs": [
    {
     "name": "stdout",
     "output_type": "stream",
     "text": [
      "Length: 56\n",
      "Factors: [1, 2, 4, 7, 8, 14, 28]\n",
      "4 columns:\n",
      "o : n : c : n \n",
      "s : a : t : s \n",
      "a : h : t : b \n",
      "s : t : e : a \n",
      "a : f : e : s \n",
      "n : i : i : g \n",
      "g : w : l : r \n",
      "n : e : t : i \n",
      "f : t : h : i \n",
      "t : t : o : u \n",
      "r : a : m : e \n",
      "u : r : y : o \n",
      "n : a : e : r \n",
      "s : w : o : w \n",
      "\n",
      "7 columns:\n",
      "o : f : h : a : e : e : r \n",
      "s : t : t : r : i : o : i \n",
      "a : r : f : a : l : n : i \n",
      "s : u : i : w : t : s : u \n",
      "a : n : w : c : h : b : e \n",
      "n : s : e : t : o : a : o \n",
      "g : n : t : t : m : s : r \n",
      "n : a : t : e : y : g : w \n",
      "\n",
      "8 columns:\n",
      "o : n : n : e : c : t : n : i \n",
      "s : f : a : t : t : h : s : i \n",
      "a : t : h : t : t : o : b : u \n",
      "s : r : t : a : e : m : a : e \n",
      "a : u : f : r : e : y : s : o \n",
      "n : n : i : a : i : e : g : r \n",
      "g : s : w : w : l : o : r : w \n",
      "\n",
      "14 columns:\n",
      "o : a : f : n : h : w : a : c : e : h : e : b : r : e \n",
      "s : n : t : s : t : e : r : t : i : o : o : a : i : o \n",
      "a : g : r : n : f : t : a : t : l : m : n : s : i : r \n",
      "s : n : u : a : i : t : w : e : t : y : s : g : u : w \n",
      "\n",
      "28 columns:\n",
      "o : a : a : g : f : r : n : n : h : f : w : t : a : a : c : t : e : l : h : m : e : n : b : s : r : i : e : r \n",
      "s : s : n : n : t : u : s : a : t : i : e : t : r : w : t : e : i : t : o : y : o : s : a : g : i : u : o : w \n",
      "\n"
     ]
    }
   ],
   "source": [
    "# Columnar Transposition cipher - format permutations \n",
    "\n",
    "# message length\n",
    "m3_length = len(m3)\n",
    "print(\"Length:\", m3_length)\n",
    "\n",
    "# potential key lengths with factors\n",
    "factors = [1]\n",
    "for i in range(2, m3_length):\n",
    "    if m3_length % i == 0:\n",
    "        factors.append(i)     \n",
    "print(\"Factors:\", factors)\n",
    "\n",
    "# arrange message into columns - skipping 1 (all lengths) and 2 (even lengths)\n",
    "all_columns = {}\n",
    "for no_columns in factors[2:]: \n",
    "    no_rows = math.ceil(m3_length / no_columns)\n",
    "    columns = generate_columns(m3,no_columns, no_rows)\n",
    "    all_columns[no_columns] = columns\n",
    "\n",
    "    # print to console\n",
    "    pretty_print(columns)\n",
    "    print()"
   ]
  },
  {
   "cell_type": "code",
   "execution_count": 61,
   "metadata": {},
   "outputs": [
    {
     "name": "stdout",
     "output_type": "stream",
     "text": [
      "Word: continen\n",
      "c : o : n : t : i : n : e : n \n",
      "t : s : f : h : i : a : t : s \n",
      "t : a : t : o : u : h : t : b \n",
      "e : s : r : m : e : t : a : a \n",
      "e : a : u : y : o : f : r : s \n",
      "i : n : n : e : r : i : a : g \n",
      "l : g : s : o : w : w : w : r \n",
      "Word: continen\n",
      "c : o : n : t : i : n : e : n \n",
      "t : s : s : h : i : a : t : f \n",
      "t : a : b : o : u : h : t : t \n",
      "e : s : a : m : e : t : a : r \n",
      "e : a : s : y : o : f : r : u \n",
      "i : n : g : e : r : i : a : n \n",
      "l : g : r : o : w : w : w : s \n",
      "Word: continen\n",
      "c : o : n : t : i : n : e : n \n",
      "t : s : s : h : i : f : t : a \n",
      "t : a : b : o : u : t : t : h \n",
      "e : s : a : m : e : r : a : t \n",
      "e : a : s : y : o : u : r : f \n",
      "i : n : g : e : r : n : a : i \n",
      "l : g : r : o : w : s : w : w \n"
     ]
    }
   ],
   "source": [
    "# continent but rest of message is not english\n",
    "p = all_columns.get(8)\n",
    "r = [4,0,1,5,7,2,3,6]\n",
    "acronym = \"continen\"\n",
    "rearrangement = list(map(p.__getitem__, r))\n",
    "pretty_print(rearrangement, acronym=acronym)\n",
    "\n",
    "# continent - swap the N's - very very close - can guess sentence but not correct\n",
    "p = all_columns.get(8)\n",
    "r = [4,0,6,5,7,2,3,1]\n",
    "acronym = \"continen\"\n",
    "rearrangement = list(map(p.__getitem__, r))\n",
    "pretty_print(rearrangement, acronym=acronym)\n",
    "\n",
    "# continent - swap the N's again - correct message\n",
    "p = all_columns.get(8)\n",
    "r = [4,0,6,5,7,1,3,2]\n",
    "acronym = \"continen\"\n",
    "rearrangement = list(map(p.__getitem__, r))\n",
    "pretty_print(rearrangement, acronym=acronym)\n",
    "\n",
    "decrypted = rearrangement\n",
    "r_final = r"
   ]
  },
  {
   "cell_type": "code",
   "execution_count": 62,
   "metadata": {},
   "outputs": [
    {
     "name": "stdout",
     "output_type": "stream",
     "text": [
      "continentsshiftataboutthesamerateasyourfingernailgrowsww\n",
      "continents shift at about the same rate as your fingernail grows ww\n"
     ]
    }
   ],
   "source": [
    "## extract message\n",
    "plaintext = \"\"\n",
    "for y in range(len(decrypted[0])):\n",
    "    row = ''.join([decrypted[x][y] for x in range(len(decrypted))])\n",
    "    plaintext += row\n",
    "    \n",
    "print(plaintext)\n",
    "\n",
    "# infer sentence and add spaces - random characters \"ww\" at the end to increase message length to incorporate key\n",
    "print(\"continents shift at about the same rate as your fingernail grows ww\")\n",
    "\n"
   ]
  },
  {
   "cell_type": "code",
   "execution_count": 71,
   "metadata": {},
   "outputs": [
    {
     "name": "stdout",
     "output_type": "stream",
     "text": [
      "Basic key: eagfhbdc\n",
      "Possible keys: []\n",
      "No English words match key. Key = eagfhbdc\n"
     ]
    }
   ],
   "source": [
    "## work out potential key\n",
    "\n",
    "# work out key - using first k letters of the alphabet (8 in this case)\n",
    "abc = string.ascii_lowercase\n",
    "size = len(r_final)\n",
    "letters = abc[:size]\n",
    "alpha_map = {n: a for n, a in zip(range(size), letters)}\n",
    "key = ''.join(alpha_map[r] for r in r_final)\n",
    "print(\"Basic key:\",key)\n",
    "\n",
    "# use dictionary attack to find potential english words that may have been used as the key\n",
    "def relative_order(word):\n",
    "    sorted_letters = sorted(word)\n",
    "    order_map = {letter: i for i, letter in enumerate(sorted_letters)}\n",
    "    return tuple(order_map[letter] for letter in word)\n",
    "\n",
    "# Your r_final pattern (target ordering)\n",
    "target_pattern = tuple(r_final)\n",
    "\n",
    "# Filter for 8-letter words that are alphabetic and have unique letters.\n",
    "candidate_keys = [\n",
    "    word.lower() for word in english_words.words()\n",
    "    if len(word) == 8 and word.isalpha() and len(set(word.lower())) == 8\n",
    "    and relative_order(word.lower()) == target_pattern\n",
    "]\n",
    "\n",
    "print(\"Possible keys:\", candidate_keys)\n",
    "\n",
    "if candidate_keys == []:\n",
    "    print(\"No English words match key. Key =\", key)\n",
    "\n"
   ]
  },
  {
   "cell_type": "markdown",
   "metadata": {},
   "source": [
    "## Alternative anagrams considered"
   ]
  },
  {
   "cell_type": "code",
   "execution_count": 6,
   "metadata": {},
   "outputs": [
    {
     "name": "stdout",
     "output_type": "stream",
     "text": [
      "Word: fear\n",
      "o : f : e : a : r : e : h \n",
      "s : t : i : r : i : o : t \n",
      "a : r : l : a : i : n : f \n",
      "s : u : t : w : u : s : i \n",
      "a : n : h : c : e : b : w \n",
      "n : s : o : t : o : a : e \n",
      "g : n : m : t : r : s : t \n",
      "n : a : y : e : w : g : t \n",
      "Word: your\n",
      "c : n : o : n \n",
      "t : s : s : a \n",
      "t : b : a : h \n",
      "e : a : s : t \n",
      "e : s : a : f \n",
      "i : g : n : i \n",
      "l : r : g : w \n",
      "t : i : n : e \n",
      "h : i : f : t \n",
      "o : u : t : t \n",
      "m : e : r : a \n",
      "y : o : u : r \n",
      "e : r : n : a \n",
      "o : w : s : w \n"
     ]
    }
   ],
   "source": [
    "## rearrange chosen permutation \n",
    "p = all_columns.get(7)\n",
    "#pretty_print(p)\n",
    "\n",
    "# \"fear\" - 7 columns\n",
    "p = all_columns.get(7)\n",
    "r = [0,1,4,3,6,5,2]\n",
    "acronym = \"fear\"\n",
    "rearrangement = list(map(p.__getitem__, r))\n",
    "pretty_print(rearrangement, acronym=acronym)\n",
    "\n",
    "# \"your\" - 4 columns\n",
    "p = all_columns.get(4)\n",
    "r = [2,3,0,1]\n",
    "acronym = \"your\"\n",
    "rearrangement = list(map(p.__getitem__, r))\n",
    "pretty_print(rearrangement, acronym=acronym)\n"
   ]
  },
  {
   "cell_type": "code",
   "execution_count": null,
   "metadata": {},
   "outputs": [
    {
     "name": "stdout",
     "output_type": "stream",
     "text": [
      "Word: shift\n",
      "o : t : i : n : c : e : n : n \n",
      "s : h : i : f : t : t : s : a \n",
      "a : o : u : t : t : t : b : h \n",
      "s : m : e : r : e : a : a : t \n",
      "a : y : o : u : e : r : s : f \n",
      "n : e : r : n : i : a : g : i \n",
      "g : o : w : s : l : w : r : w \n"
     ]
    }
   ],
   "source": [
    "# \"shift\" - 8 columns - shift? above word looks like the word continent\n",
    "p = all_columns.get(8)\n",
    "r = [0,5,7,1,4,3,6,2]\n",
    "acronym = \"shift\"\n",
    "rearrangement = list(map(p.__getitem__, r))\n",
    "pretty_print(rearrangement, acronym=acronym)\n"
   ]
  },
  {
   "cell_type": "markdown",
   "metadata": {},
   "source": [
    "# Brute Force"
   ]
  },
  {
   "cell_type": "code",
   "execution_count": null,
   "metadata": {},
   "outputs": [],
   "source": [
    "## attempt 1 - all permutations \n",
    "\n",
    "\n",
    "\n",
    "abc = string.ascii_lowercase\n",
    "\n",
    "# iterate no columns by 1 not by factor\n",
    "all_words = {}\n",
    "for width in range(factors[2], 9): \n",
    "    \n",
    "    # append random letters to end of string to fill table\n",
    "    mod = m3_length % width \n",
    "    if mod == 0: \n",
    "        end_gap = 0\n",
    "    else: \n",
    "        end_gap = width - mod\n",
    "    m = list(m3)\n",
    "    for i in range(end_gap):\n",
    "        m.append(random.choice(abc))\n",
    "\n",
    "    # calculate height for table\n",
    "    height = int(len(m) / width)\n",
    "    cols = generate_columns(m,width,height)\n",
    "    \n",
    "    words = {}\n",
    "    for y in range(height):\n",
    "        row = ''.join([cols[x][y] for x in range(width)])\n",
    "        perms = [''.join(p) for p in permutations(row)]\n",
    "        for perm in perms: \n",
    "            word = english.check(perm)\n",
    "            if word: \n",
    "                words[y] = perm     \n",
    "                \n",
    "    if words:\n",
    "        \n",
    "        word = words[next(iter(words))]\n",
    "        y = list(words.keys())[0]\n",
    "        row = ''.join([cols[x][y] for x in range(width)])\n",
    "        \n",
    "        # Rearrange the columns in cols so that the row matches the word\n",
    "        rearranged_cols = [[] for _ in range(width)]\n",
    "        for idx, char in enumerate(word):\n",
    "            original_idx = row.index(char)\n",
    "            rearranged_cols[idx] = cols[original_idx]\n",
    "        \n",
    "        all_words[width] = words, rearranged_cols\n",
    "\n",
    "        \n",
    "        pretty_print(rearranged_cols, idx=True)\n",
    "        print(words)\n",
    "        print()\n",
    "\n"
   ]
  }
 ],
 "metadata": {
  "kernelspec": {
   "display_name": "base",
   "language": "python",
   "name": "python3"
  },
  "language_info": {
   "codemirror_mode": {
    "name": "ipython",
    "version": 3
   },
   "file_extension": ".py",
   "mimetype": "text/x-python",
   "name": "python",
   "nbconvert_exporter": "python",
   "pygments_lexer": "ipython3",
   "version": "3.11.5"
  }
 },
 "nbformat": 4,
 "nbformat_minor": 2
}

{
 "cells": [
  {
   "cell_type": "markdown",
   "metadata": {},
   "source": [
    "# Cipher 2\n",
    "\n",
    "* Crib: The first Character of the plaintext is R\n",
    "* Based on this we can assume that the plaintext is constructed from the Latin Alphabet\n",
    "* Based on the context of the course we can assume that the message is English"
   ]
  },
  {
   "cell_type": "code",
   "execution_count": 26,
   "metadata": {},
   "outputs": [
    {
     "name": "stdout",
     "output_type": "stream",
     "text": [
      "3c 91 1d 91 0f 86 0d 9c 0b 86 1d d4 07 9a 4e c5\n",
      "57 c6 57 d4 0f 80 4e a4 1c 9d 00 97 0b 80 01 9a\n",
      "4e a1 00 9d 18 91 1c 87 07 80 17 d4 1a 81 1c 9a\n",
      "0b 90 4e 95 4e 98 07 82 07 9a 09 d4 0d 95 1a d4\n",
      "07 9a 1a 9b 4e 95 4e 80 0b 98 0b 84 06 9b 00 91\n",
      "63 fe\n",
      "\n"
     ]
    }
   ],
   "source": [
    "## import message\n",
    "def format_hex_display(data, bytes_per_row=16):\n",
    "    formatted_hex = \"\"\n",
    "    for i in range(0, len(data), bytes_per_row * 2):\n",
    "        # Grab a slice of the hex string corresponding to the number of bytes per row\n",
    "        row = data[i:i + bytes_per_row * 2]\n",
    "        # Break the row into byte-pairs (2 characters each)\n",
    "        byte_pairs = ' '.join(row[j:j+2] for j in range(0, len(row), 2))\n",
    "        formatted_hex += byte_pairs + '\\n'\n",
    "    return formatted_hex\n",
    "\n",
    "with open('21.hex', 'rb') as file:\n",
    "    ciphertext = file.read() \n",
    "    \n",
    "    # convert to list of bytes for easy processing\n",
    "    c_bytes = list(ciphertext)\n",
    "    \n",
    "\n",
    "# Print formatted hex values\n",
    "print(format_hex_display(ciphertext.hex()))\n"
   ]
  },
  {
   "cell_type": "markdown",
   "metadata": {},
   "source": [
    "* We can make an initial assumption that 3C equates to R"
   ]
  },
  {
   "cell_type": "code",
   "execution_count": 27,
   "metadata": {},
   "outputs": [
    {
     "name": "stdout",
     "output_type": "stream",
     "text": [
      "Max hex value:  0xfe\n",
      "Min hex value:  0x0\n",
      "Failed to decode with utf-8: 'utf-8' codec can't decode byte 0x91 in position 1: invalid start byte\n",
      "\u001aÔ\u0007\u001aNN\u000b\u000b\u0006\u0000cþ\u000b\u0001N¡\u0000\u0018\u001c\u0007\u0017Ô\u001a\u001c\u000bNN\u0007\u0007\tÔ\n",
      "Failed to decode with ascii: 'ascii' codec can't decode byte 0x91 in position 1: ordinal not in range(128)\n",
      "Failed to decode with cp1252: 'charmap' codec can't decode byte 0x9d in position 25: character maps to <undefined>\n",
      "Decoded with utf-16: 鄼鄝蘏鰍蘋퐝騇앎왗푗耏ꑎ鴜需耋騁ꅎ鴀鄘蜜耇퐗脚騜逋镎顎與騇퐉锍퐚騇鬚镎聎頋萋鬆鄀﹣\n",
      "Failed to decode with utf-32: 'utf-32-le' codec can't decode bytes in position 0-3: code point not in range(0x110000)\n"
     ]
    }
   ],
   "source": [
    "## range analysis\n",
    "\n",
    "# highest hex number \n",
    "max_hex = max(c_bytes)\n",
    "print(\"Max hex value: \", hex(max_hex))\n",
    "\n",
    "# lowest hex number\n",
    "min_hex = min(c_bytes)\n",
    "print(\"Min hex value: \", hex(min_hex))\n",
    "\n",
    "# decode hex file to string with different character sets\n",
    "charsets = ['utf-8', 'latin1', 'ascii', 'cp1252', 'utf-16', 'utf-32']\n",
    "for charset in charsets:\n",
    "    try:\n",
    "        ciphertext_str = ciphertext.decode(charset)\n",
    "        print(f\"Decoded with {charset}: {ciphertext_str}\")\n",
    "    except Exception as e:\n",
    "        print(f\"Failed to decode with {charset}: {e}\")"
   ]
  },
  {
   "cell_type": "markdown",
   "metadata": {},
   "source": [
    "* Cannot decode message to known character set, due to range problems and bytes equating to non printable characters\n",
    "* With no knowledge of the structure or character mappings, pursuring freequency analysis methods is not plausisble\n",
    "* Assuming that 3C = R, but the hex for R is 0x54. Need operation to convert them which can be mapped to all bytes\n",
    "* The lecture slides discuss the XOR Cipher and OTP which both use the XOR Operation. \n",
    "* If XOR has been used, we can XOR 3C and R to obtain a key\n"
   ]
  },
  {
   "cell_type": "code",
   "execution_count": 28,
   "metadata": {},
   "outputs": [
    {
     "name": "stdout",
     "output_type": "stream",
     "text": [
      "Key (hex): 0x6e\n",
      "ecrypted Message: Rÿsÿaècòeèsºiô «9¨9ºaî Êrónùeîoô Ïnóvÿréiîyºtïrôeþ û öiìiôgºcûtºiôtõ û îeöeêhõnÿ\n"
     ]
    }
   ],
   "source": [
    "# XOR the first byte with 'R' to get the key\n",
    "key = c_bytes[0] ^ ord('R')\n",
    "print(\"Key (hex):\", hex(key))\n",
    "\n",
    "# XOR every byte with the key\n",
    "decrypted_bytes = [byte ^ key for byte in c_bytes]\n",
    "\n",
    "# Print raw Ascii for decrypted bytes\n",
    "print(\"Decrypted Message:\", ''.join(chr(byte) for byte in decrypted_bytes))\n"
   ]
  },
  {
   "cell_type": "markdown",
   "metadata": {},
   "source": [
    "* By applying the key to the ciphertext, we do not get an English message and there are many non-latin/english alphabet characters\n",
    "* However there are Latin/English characters present, specifically every other character. "
   ]
  },
  {
   "cell_type": "code",
   "execution_count": 29,
   "metadata": {},
   "outputs": [
    {
     "name": "stdout",
     "output_type": "stream",
     "text": [
      "Decrypted Message (stripped): R-s-a-c-e-s-i- -9-9-a- -r-n-e-o- -n-v-r-i-y-t-r-e- - -i-i-g-c-t-i-t- - -e-e-h-n---\n"
     ]
    }
   ],
   "source": [
    "# strip non-printable characters\n",
    "\n",
    "# ascii values for printable characters are 32-126\n",
    "# print ascii for each byte in decrypted - if no char then print '-'\n",
    "decrypted_string = ''.join(chr(byte) if 32 <= byte <= 126 else '-' for byte in decrypted_bytes)\n",
    "print(\"Decrypted Message (stripped):\", decrypted_string)\n"
   ]
  },
  {
   "cell_type": "markdown",
   "metadata": {},
   "source": [
    "* By filtering out non-latin characters, the text looks more like English, with apropriate words lengths and characters. \n",
    "* This suggests that the initial key is used to encrypt every other character and that another key is used for the remaining\n",
    "* There are single character words present. In english, these can only be i or a"
   ]
  },
  {
   "cell_type": "code",
   "execution_count": 30,
   "metadata": {},
   "outputs": [
    {
     "name": "stdout",
     "output_type": "stream",
     "text": [
      "Single Character Words: {51: '-', 69: '-'}\n",
      "Potential Keys (hex): ['0xfc', '0xf4']\n"
     ]
    }
   ],
   "source": [
    "# find index of single character words\n",
    "words = decrypted_string.split()\n",
    "single_char_words = {}\n",
    "i = 0\n",
    "for word in words:\n",
    "    if len(word) == 1:\n",
    "        single_char_words[i] = word\n",
    "    i += (len(word) + 1)\n",
    "print(\"Single Character Words:\", single_char_words)\n",
    "\n",
    "# find potential second key\n",
    "potential_keys = []\n",
    "for i in single_char_words.keys():\n",
    "    potential_keys.append(c_bytes[i] ^ ord('i'))\n",
    "    potential_keys.append(c_bytes[i] ^ ord('a'))\n",
    "\n",
    "# remove duplicates\n",
    "potential_keys = list(set(potential_keys))\n",
    "print(\"Potential Keys (hex):\", [hex(key) for key in potential_keys])"
   ]
  },
  {
   "cell_type": "markdown",
   "metadata": {},
   "source": [
    "* The potential second keys are obtained by XORing the hex values of the single character words with i and a\n",
    "* Giving us two potential keys"
   ]
  },
  {
   "cell_type": "code",
   "execution_count": 31,
   "metadata": {},
   "outputs": [
    {
     "name": "stdout",
     "output_type": "stream",
     "text": [
      "Potential Decryptions:\n",
      "  0xfc : -m-m-z-`-z-(-f-9-:-(-|-X-a-k-|-f-]-a-m-{-|-(-}-f-l-i-d-~-f-(-i-(-f-g-i-|-d-x-g-m--\n",
      "  0xf4 : -e-e-r-h-r- -n-1-2- -t-P-i-c-t-n-U-i-e-s-t- -u-n-d-a-l-v-n- -a- -n-o-a-t-l-p-o-e--\n"
     ]
    }
   ],
   "source": [
    "# print potential decryptions with second key - only printable ascii characters\n",
    "print(\"Potential Decryptions:\")\n",
    "for i, k in enumerate(potential_keys):\n",
    "    decrypted_key2 = [byte ^ k for byte in c_bytes]\n",
    "    decrypted_string2 = ''.join(chr(byte) if 32 <= byte <= 126 else '-' for byte in decrypted_key2)\n",
    "    print(\" \", hex(k) , \":\" ,decrypted_string2)\n",
    "\n",
    "# choose second key \n",
    "key_2 = potential_keys[1]\n",
    "\n"
   ]
  },
  {
   "cell_type": "markdown",
   "metadata": {},
   "source": [
    "* The second decryption looks plausible. It is entirely made up of English letters"
   ]
  },
  {
   "cell_type": "code",
   "execution_count": 32,
   "metadata": {},
   "outputs": [
    {
     "name": "stdout",
     "output_type": "stream",
     "text": [
      "Decrypted Message: Researchers in 1929 at Princeton University turned a living cat into a telephone--\n"
     ]
    }
   ],
   "source": [
    "# decrypt even indexes with key 1 and odd indexes with key 2\n",
    "decrypted = []\n",
    "for i, byte in enumerate(c_bytes):\n",
    "    if i % 2 == 0:\n",
    "        decrypted.append(byte ^ key)\n",
    "    else:\n",
    "        decrypted.append(byte ^ key_2)\n",
    "\n",
    "# print decrypted message\n",
    "decrypted_string = ''.join(chr(byte) if 32 <= byte <= 126 else '-' for byte in decrypted)\n",
    "print(\"Decrypted Message:\", decrypted_string)"
   ]
  },
  {
   "cell_type": "markdown",
   "metadata": {},
   "source": [
    "* Message is succesfully decrypted... almost\n",
    "* Trailing non-printable characters"
   ]
  },
  {
   "cell_type": "code",
   "execution_count": 33,
   "metadata": {},
   "outputs": [
    {
     "name": "stdout",
     "output_type": "stream",
     "text": [
      "Hx :  C  :  P  : Ascii\n",
      "3c :  60 :  82 : R\n",
      "91 : 145 : 101 : e\n",
      "1d :  29 : 115 : s\n",
      "91 : 145 : 101 : e\n",
      "0f :  15 :  97 : a\n",
      "86 : 134 : 114 : r\n",
      "0d :  13 :  99 : c\n",
      "9c : 156 : 104 : h\n",
      "0b :  11 : 101 : e\n",
      "86 : 134 : 114 : r\n",
      "1d :  29 : 115 : s\n",
      "d4 : 212 :  32 : space\n",
      "07 :   7 : 105 : i\n",
      "9a : 154 : 110 : n\n",
      "4e :  78 :  32 : space\n",
      "c5 : 197 :  49 : 1\n",
      "57 :  87 :  57 : 9\n",
      "c6 : 198 :  50 : 2\n",
      "57 :  87 :  57 : 9\n",
      "d4 : 212 :  32 : space\n",
      "0f :  15 :  97 : a\n",
      "80 : 128 : 116 : t\n",
      "4e :  78 :  32 : space\n",
      "a4 : 164 :  80 : P\n",
      "1c :  28 : 114 : r\n",
      "9d : 157 : 105 : i\n",
      "00 :   0 : 110 : n\n",
      "97 : 151 :  99 : c\n",
      "0b :  11 : 101 : e\n",
      "80 : 128 : 116 : t\n",
      "01 :   1 : 111 : o\n",
      "9a : 154 : 110 : n\n",
      "4e :  78 :  32 : space\n",
      "a1 : 161 :  85 : U\n",
      "00 :   0 : 110 : n\n",
      "9d : 157 : 105 : i\n",
      "18 :  24 : 118 : v\n",
      "91 : 145 : 101 : e\n",
      "1c :  28 : 114 : r\n",
      "87 : 135 : 115 : s\n",
      "07 :   7 : 105 : i\n",
      "80 : 128 : 116 : t\n",
      "17 :  23 : 121 : y\n",
      "d4 : 212 :  32 : space\n",
      "1a :  26 : 116 : t\n",
      "81 : 129 : 117 : u\n",
      "1c :  28 : 114 : r\n",
      "9a : 154 : 110 : n\n",
      "0b :  11 : 101 : e\n",
      "90 : 144 : 100 : d\n",
      "4e :  78 :  32 : space\n",
      "95 : 149 :  97 : a\n",
      "4e :  78 :  32 : space\n",
      "98 : 152 : 108 : l\n",
      "07 :   7 : 105 : i\n",
      "82 : 130 : 118 : v\n",
      "07 :   7 : 105 : i\n",
      "9a : 154 : 110 : n\n",
      "09 :   9 : 103 : g\n",
      "d4 : 212 :  32 : space\n",
      "0d :  13 :  99 : c\n",
      "95 : 149 :  97 : a\n",
      "1a :  26 : 116 : t\n",
      "d4 : 212 :  32 : space\n",
      "07 :   7 : 105 : i\n",
      "9a : 154 : 110 : n\n",
      "1a :  26 : 116 : t\n",
      "9b : 155 : 111 : o\n",
      "4e :  78 :  32 : space\n",
      "95 : 149 :  97 : a\n",
      "4e :  78 :  32 : space\n",
      "80 : 128 : 116 : t\n",
      "0b :  11 : 101 : e\n",
      "98 : 152 : 108 : l\n",
      "0b :  11 : 101 : e\n",
      "84 : 132 : 112 : p\n",
      "06 :   6 : 104 : h\n",
      "9b : 155 : 111 : o\n",
      "00 :   0 : 110 : n\n",
      "91 : 145 : 101 : e\n",
      "63 :  99 :  13 : -\n",
      "fe : 254 :  10 : -\n"
     ]
    }
   ],
   "source": [
    "## sanity check\n",
    "def fmt(byte):\n",
    "    if byte < 10:\n",
    "        return \"  \" + str(byte)\n",
    "    elif byte < 100:\n",
    "        return \" \" + str(byte)\n",
    "    else:\n",
    "        return str(byte)\n",
    "\n",
    "print(\"Hx\",\":\",\" C \",\":\",\" P \",\":\",\"Ascii\")\n",
    "for i in range(0, len(c_bytes)):\n",
    "    hex_str = hex(c_bytes[i])[2:]\n",
    "    if len(hex_str) == 1:\n",
    "        hex_str = \"0\" + hex_str\n",
    "    ds = decrypted_string[i]\n",
    "    if ds == \" \": \n",
    "        ds = \"space\"\n",
    "    print(hex_str,\":\",fmt(c_bytes[i]),\":\",fmt(decrypted[i]),\":\", ds)\n",
    "    \n",
    "## Why are there 2 non decrypted characters at the end? "
   ]
  },
  {
   "cell_type": "code",
   "execution_count": 34,
   "metadata": {},
   "outputs": [
    {
     "name": "stdout",
     "output_type": "stream",
     "text": [
      "\\n == 10\n",
      "\\r == 13\n",
      "Decrypted Message (final): Researchers in 1929 at Princeton University turned a living cat into a telephone\n",
      "this should continue onto the next line\n",
      "Final Key:  6ef4\n"
     ]
    }
   ],
   "source": [
    "# final two decrypted characters in decimal: 10 13\n",
    "# 10: newline\n",
    "print(\"\\\\n == \" + str(ord(\"\\n\")))\n",
    "\n",
    "# 13: carriage return\n",
    "print(\"\\\\r == \" + str(ord(\"\\r\")))\n",
    "\n",
    "# Therefore final message is \n",
    "decrypted_final = decrypted_string[:-2] + \"\\r\\n\"\n",
    "print(\"Decrypted Message (final):\", decrypted_final + \"this should continue onto the next line\")\n",
    "\n",
    "print(\"Final Key: \", hex(key)[2:] + hex(key_2)[2:])\n",
    "# le boom"
   ]
  },
  {
   "cell_type": "markdown",
   "metadata": {},
   "source": [
    "* By examining the ascii values of the final two non-printable characters we can see that they encode a new line.\n",
    "* Official CR LF which is a common way to denote a new line in text\n",
    "\n",
    "# Success!"
   ]
  }
 ],
 "metadata": {
  "kernelspec": {
   "display_name": "base",
   "language": "python",
   "name": "python3"
  },
  "language_info": {
   "codemirror_mode": {
    "name": "ipython",
    "version": 3
   },
   "file_extension": ".py",
   "mimetype": "text/x-python",
   "name": "python",
   "nbconvert_exporter": "python",
   "pygments_lexer": "ipython3",
   "version": "3.11.5"
  }
 },
 "nbformat": 4,
 "nbformat_minor": 2
}

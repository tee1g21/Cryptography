{
 "cells": [
  {
   "cell_type": "markdown",
   "metadata": {},
   "source": [
    "# Mono-Alphabetic Substituion\n",
    "\n",
    "* If mono-alphabetic, n MUST equal a or i.\n",
    "* Could be caesar or general monosubstitution"
   ]
  },
  {
   "cell_type": "code",
   "execution_count": 1,
   "metadata": {},
   "outputs": [],
   "source": [
    "ciphertext = \"\"\"Oirmf qjff nfrh ub wf n bsbrjab bjvsriffn bzjotnu gzbpcfen ja oir ndujpyn uuztr ybln dbidrmory\n",
    "xvoi opjyyjab dudmqmfa nfya ffofrh. Srrbeyjab uuz dudmqmfa ape nibrjab qnojridr voq  fjayornt, sjs ydtgzovih nouriuvqfyt, bay gbm\n",
    "jzksbqjab uuzje xpzhvaddnojbit ffjygt, vn crdot ptry ja hbat tpcpbgt, zjtg ztczdvvmyt qez-tpcpbgt\"\"\"\n",
    "\n",
    "answer = \"\"\"There does seem to be a growing awareness amongst teachers in the schools these days concerned\n",
    "with building children self esteem. Rewarding the children for showing patience and  kindness, for listening attentively, and for\n",
    "improving their communications skills, is being used in many schools, most especially pre-schools\"\"\"\n",
    "\n",
    "#key = \"VBN\"\n",
    "\n",
    "#cipher = \"vignere\"\n",
    "\n",
    "# single characters: n -> i,a\n",
    "# vn -> _i,_a - pi? not common\n",
    "# repeating chars: uu"
   ]
  },
  {
   "cell_type": "code",
   "execution_count": 2,
   "metadata": {},
   "outputs": [
    {
     "name": "stdout",
     "output_type": "stream",
     "text": [
      "n = a:\n",
      "Bvezs dwss aseu ho js a ofoewno owifevssa omwbgah tmocpsra wn bve aqhwcla hhmge loya qovqezbel\n",
      "kibv bcwllwno qhqzdzsn asln ssbseu. Feeorlwno hhm qhqzdzsn ncr avoewno dabwevqe ibd  swnlbeag, fwf lqgtmbivu abhevhidslg, onl toz\n",
      "wmxfodwno hhmwr kcmuinqqabwovg sswltg, ia peqbg cgel wn uong gcpcotg, mwgt mgpmqiizlg drm-gcpcotg\n",
      "\n",
      "n = i:\n",
      "Jdmha leaa iamc pw ra i wnwmevw weqnmdaai wuejoip buwkxazi ev jdm iypekti ppuom twgi ywdymhjmt\n",
      "sqjd jkettevw ypyhlhav iatv aajamc. Nmmwztevw ppu ypyhlhav vkz idwmevw lijemdym qjl  aevtjmio, nen tyobujqdc ijpmdpqlato, wvt bwh\n",
      "eufnwlevw ppuez skucqvyyijewdo aaetbo, qi xmyjo komt ev cwvo okxkwbo, ueob uoxuyqqhto lzu-okxkwbo\n"
     ]
    }
   ],
   "source": [
    "## perform caesar cipher for n = a and n = i\n",
    "\n",
    "def caesar_cipher(text, shift):\n",
    "    result = \"\"\n",
    "    for char in text:\n",
    "        if char.isalpha():\n",
    "            shift_amount = shift % 26\n",
    "            new_char = chr((ord(char.lower()) - 97 + shift_amount) % 26 + 97)\n",
    "            result += new_char.upper() if char.isupper() else new_char\n",
    "        else:\n",
    "            result += char\n",
    "    return result\n",
    "\n",
    "# Perform Caesar cipher for n = a (shift = ord('a') - ord('n'))\n",
    "shift_a = ord('a') - ord('n')\n",
    "decrypted = caesar_cipher(ciphertext, shift_a)\n",
    "print(\"n = a:\")\n",
    "print(decrypted)\n",
    "\n",
    "# Perform Caesar cipher for n = i (shift = ord('i') - ord('n'))\n",
    "shift_i = ord('i') - ord('n')\n",
    "decrypted = caesar_cipher(ciphertext, shift_i)\n",
    "print(\"\\nn = i:\")\n",
    "print(decrypted)"
   ]
  },
  {
   "cell_type": "markdown",
   "metadata": {},
   "source": [
    "* Neither shift is correct\n",
    "* General monoalphabetic subsitution is still possible\n",
    "* Start with n = i,a, b = e and ff = ll ..."
   ]
  },
  {
   "cell_type": "code",
   "execution_count": 3,
   "metadata": {},
   "outputs": [
    {
     "name": "stdout",
     "output_type": "stream",
     "text": [
      "{'n': 'a'}\n",
      "\n",
      "Oirmf qjff afrh ub wf a bsbrjab bjvsriffa bzjotau gzbpcfea ja oir adujpya uuztr ybla dbidrmory\n",
      "xvoi opjyyjab dudmqmfa afya ffofrh. Srrbeyjab uuz dudmqmfa ape aibrjab qaojridr voq  fjayorat, sjs ydtgzovih aouriuvqfyt, bay gbm\n",
      "jzksbqjab uuzje xpzhvaddaojbit ffjygt, va crdot ptry ja hbat tpcpbgt, zjtg ztczdvvmyt qez-tpcpbgt\n",
      "\n",
      "----- ---- a--- -- -- a -----a- --------a -----a- -------a -a --- a-----a ----- ---a ---------\n",
      "---- ------a- -------a a--a ------. -------a- --- -------a a-- a----a- -a------ ---  --a---a-, --- --------- a----------, -a- ---\n",
      "-------a- ----- -----a--a----- ------, -a ----- ---- -a --a- -------, ---- ---------- -----------\n",
      "\n"
     ]
    }
   ],
   "source": [
    "# general mono subsitution cipher\n",
    "\n",
    "def substitution_cipher(text, substitution_dict):\n",
    "    result = \"\"\n",
    "    for char in text:\n",
    "        if char.lower() in substitution_dict:\n",
    "            new_char = substitution_dict[char.lower()]\n",
    "            \n",
    "            result += new_char.upper() if char.isupper() else new_char\n",
    "        else:\n",
    "            result += char\n",
    "    return result\n",
    "\n",
    "substitutions = {\n",
    "    'n': 'a'\n",
    "}\n",
    "\n",
    "# print all substituted text then only the substitutions themselves\n",
    "print(substitutions, end=\"\\n\\n\")\n",
    "decrypted = substitution_cipher(ciphertext, substitutions)\n",
    "print(decrypted, end=\"\\n\\n\")\n",
    "pretty_printed = ''.join([char if char.lower() in substitutions.values() else char if not char.isalpha() else '-' for char in decrypted])\n",
    "print(pretty_printed, end=\"\\n\\n\")\n",
    "\n",
    "\n"
   ]
  },
  {
   "cell_type": "markdown",
   "metadata": {},
   "source": [
    "* '-a' would be an uncommon word: la, ha, ba?. ha and ha maybe plausible\n",
    "* It Appears 3 times. With 2 different prefix letters j, v. Unlikely to be l or h\n",
    "* The last two times are two words apart from each other - very unlikely \n"
   ]
  },
  {
   "cell_type": "code",
   "execution_count": 4,
   "metadata": {},
   "outputs": [
    {
     "name": "stdout",
     "output_type": "stream",
     "text": [
      "{'n': 'a', 'j': 'h', 'v': 'l', 'b': 'e'}\n",
      "\n",
      "Oirmf qhff afrh ue wf a eserhae ehlsriffa ezhotau gzepcfea ha oir aduhpya uuztr yela deidrmory\n",
      "xloi ophyyhae dudmqmfa afya ffofrh. Srreeyhae uuz dudmqmfa ape aierhae qaohridr loq  fhayorat, shs ydtgzolih aouriulqfyt, eay gem\n",
      "hzkseqhae uuzhe xpzhladdaoheit ffhygt, la crdot ptry ha heat tpcpegt, zhtg ztczdllmyt qez-tpcpegt\n",
      "\n",
      "----- -h-- a--h -e -- a e-e-hae ehl-----a e-h--a- --e---ea ha --- a--h--a ----- -ela -e-------\n",
      "-l-- --h--hae -------a a--a -----h. ---ee-hae --- -------a a-e a-e-hae -a-h---- l--  -ha---a-, -h- ------l-h a-----l----, ea- -e-\n",
      "h---e-hae ---he ---hla--a-he-- --h---, la ----- ---- ha hea- ----e--, -h-- -----ll--- -e------e--\n",
      "\n",
      "{'n': 'a', 'j': 'l', 'v': 'h', 'b': 'e'}\n",
      "\n",
      "Oirmf qlff afrh ue wf a eserlae elhsriffa ezlotau gzepcfea la oir adulpya uuztr yela deidrmory\n",
      "xhoi oplyylae dudmqmfa afya ffofrh. Srreeylae uuz dudmqmfa ape aierlae qaolridr hoq  flayorat, sls ydtgzohih aouriuhqfyt, eay gem\n",
      "lzkseqlae uuzle xpzhhaddaoleit fflygt, ha crdot ptry la heat tpcpegt, zltg ztczdhhmyt qez-tpcpegt\n",
      "\n",
      "----- -l-- a--h -e -- a e-e-lae elh-----a e-l--a- --e---ea la --- a--l--a ----- -ela -e-------\n",
      "-h-- --l--lae -------a a--a -----h. ---ee-lae --- -------a a-e a-e-lae -a-l---- h--  -la---a-, -l- ------h-h a-----h----, ea- -e-\n",
      "l---e-lae ---le ---hha--a-le-- --l---, ha ----- ---- la hea- ----e--, -l-- -----hh--- -e------e--\n",
      "\n"
     ]
    }
   ],
   "source": [
    "substitutions = {\n",
    "    'n': 'a', 'j': 'h', 'v': 'l', 'b':'e'\n",
    "}\n",
    "\n",
    "# print all substituted text then only the substitutions themselves\n",
    "print(substitutions, end=\"\\n\\n\")\n",
    "decrypted = substitution_cipher(ciphertext, substitutions)\n",
    "print(decrypted, end=\"\\n\\n\")\n",
    "pretty_printed = ''.join([char if char.lower() in substitutions.values() else char if not char.isalpha() else '-' for char in decrypted])\n",
    "print(pretty_printed, end=\"\\n\\n\")\n",
    "\n",
    "substitutions = {\n",
    "    'n': 'a', 'j': 'l', 'v': 'h', 'b': 'e'\n",
    "}\n",
    "\n",
    "# print all substituted text then only the substitutions themselves\n",
    "print(substitutions, end=\"\\n\\n\")\n",
    "decrypted = substitution_cipher(ciphertext, substitutions)\n",
    "print(decrypted, end=\"\\n\\n\")\n",
    "pretty_printed = ''.join([char if char.lower() in substitutions.values() else char if not char.isalpha() else '-' for char in decrypted])\n",
    "print(pretty_printed, end=\"\\n\\n\")"
   ]
  },
  {
   "cell_type": "markdown",
   "metadata": {},
   "source": [
    "* \"Vowels do not often contact one another\" - Classic Ciphers Slides\n",
    "* Many implausible words - monoalphabetic is inplausible"
   ]
  }
 ],
 "metadata": {
  "kernelspec": {
   "display_name": "base",
   "language": "python",
   "name": "python3"
  },
  "language_info": {
   "codemirror_mode": {
    "name": "ipython",
    "version": 3
   },
   "file_extension": ".py",
   "mimetype": "text/x-python",
   "name": "python",
   "nbconvert_exporter": "python",
   "pygments_lexer": "ipython3",
   "version": "3.11.5"
  }
 },
 "nbformat": 4,
 "nbformat_minor": 2
}

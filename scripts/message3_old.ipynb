{
 "cells": [
  {
   "cell_type": "markdown",
   "metadata": {},
   "source": [
    "# Brute Force"
   ]
  },
  {
   "cell_type": "code",
   "execution_count": null,
   "metadata": {},
   "outputs": [
    {
     "name": "stderr",
     "output_type": "stream",
     "text": [
      "[nltk_data] Downloading package words to\n",
      "[nltk_data]     C:\\Users\\tomev\\AppData\\Roaming\\nltk_data...\n",
      "[nltk_data]   Package words is already up-to-date!\n"
     ]
    }
   ],
   "source": [
    "\n",
    "import enchant\n",
    "english = enchant.Dict(\"en_UK\")\n",
    "import random\n",
    "from itertools import permutations\n",
    "import string"
   ]
  },
  {
   "cell_type": "code",
   "execution_count": null,
   "metadata": {},
   "outputs": [],
   "source": [
    "## attempt 1 - all permutations \n",
    "\n",
    "\n",
    "\n",
    "abc = string.ascii_lowercase\n",
    "\n",
    "# iterate no columns by 1 not by factor\n",
    "all_words = {}\n",
    "for width in range(factors[2], 9): \n",
    "    \n",
    "    # append random letters to end of string to fill table\n",
    "    mod = m3_length % width \n",
    "    if mod == 0: \n",
    "        end_gap = 0\n",
    "    else: \n",
    "        end_gap = width - mod\n",
    "    m = list(m3)\n",
    "    for i in range(end_gap):\n",
    "        m.append(random.choice(abc))\n",
    "\n",
    "    # calculate height for table\n",
    "    height = int(len(m) / width)\n",
    "    cols = generate_columns(m,width,height)\n",
    "    \n",
    "    words = {}\n",
    "    for y in range(height):\n",
    "        row = ''.join([cols[x][y] for x in range(width)])\n",
    "        perms = [''.join(p) for p in permutations(row)]\n",
    "        for perm in perms: \n",
    "            word = english.check(perm)\n",
    "            if word: \n",
    "                words[y] = perm     \n",
    "                \n",
    "    if words:\n",
    "        \n",
    "        word = words[next(iter(words))]\n",
    "        y = list(words.keys())[0]\n",
    "        row = ''.join([cols[x][y] for x in range(width)])\n",
    "        \n",
    "        # Rearrange the columns in cols so that the row matches the word\n",
    "        rearranged_cols = [[] for _ in range(width)]\n",
    "        for idx, char in enumerate(word):\n",
    "            original_idx = row.index(char)\n",
    "            rearranged_cols[idx] = cols[original_idx]\n",
    "        \n",
    "        all_words[width] = words, rearranged_cols\n",
    "\n",
    "        \n",
    "        pretty_print(rearranged_cols, idx=True)\n",
    "        print(words)\n",
    "        print()\n",
    "\n"
   ]
  }
 ],
 "metadata": {
  "kernelspec": {
   "display_name": "base",
   "language": "python",
   "name": "python3"
  },
  "language_info": {
   "codemirror_mode": {
    "name": "ipython",
    "version": 3
   },
   "file_extension": ".py",
   "mimetype": "text/x-python",
   "name": "python",
   "nbconvert_exporter": "python",
   "pygments_lexer": "ipython3",
   "version": "3.11.5"
  }
 },
 "nbformat": 4,
 "nbformat_minor": 2
}

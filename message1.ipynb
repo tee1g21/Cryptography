{
 "cells": [
  {
   "cell_type": "markdown",
   "metadata": {},
   "source": [
    "# Task 1"
   ]
  },
  {
   "cell_type": "code",
   "execution_count": null,
   "metadata": {},
   "outputs": [],
   "source": [
    "message = \"\"\"Oirmf qjff nfrh ub wf n bsbrjab bjvsriffn bzjotnu gzbpcfen ja oir ndujpyn uuztr ybln dbidrmory\n",
    "xvoi opjyyjab dudmqmfa nfya ffofrh. Srrbeyjab uuz dudmqmfa ape nibrjab qnojridr voq  fjayornt, sjs ydtgzovih nouriuvqfyt, bay gbm\n",
    "jzksbqjab uuzje xpzhvaddnojbit ffjygt, vn crdot ptry ja hbat tpcpbgt, zjtg ztczdvvmyt qez-tpcpbgt\"\"\"\n",
    "\n",
    "answer = \"\"\"There does seem to be a growing awareness amongst teachers in the schools these days concerned\n",
    "with building children self esteem. Rewarding the children for showing patience and  kindness, for listening attentively, and for\n",
    "improving their communications skills, is being used in many schools, most especially pre-schools\"\"\"\n",
    "\n",
    "key = \"VBN\"\n",
    "\n",
    "cipher = \"vignere\"\n",
    "\n",
    "# single characters: n -> i,a\n",
    "# vn -> _i,_a - pi? not common\n",
    "# repeating chars: uu"
   ]
  }
 ],
 "metadata": {
  "kernelspec": {
   "display_name": "base",
   "language": "python",
   "name": "python3"
  },
  "language_info": {
   "codemirror_mode": {
    "name": "ipython",
    "version": 3
   },
   "file_extension": ".py",
   "mimetype": "text/x-python",
   "name": "python",
   "nbconvert_exporter": "python",
   "pygments_lexer": "ipython3",
   "version": "3.11.5"
  }
 },
 "nbformat": 4,
 "nbformat_minor": 2
}

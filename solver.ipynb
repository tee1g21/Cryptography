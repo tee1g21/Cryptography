{
 "cells": [
  {
   "cell_type": "markdown",
   "metadata": {},
   "source": [
    "# Task 1"
   ]
  },
  {
   "cell_type": "code",
   "execution_count": null,
   "metadata": {},
   "outputs": [],
   "source": [
    "message = \"\"\"Oirmf qjff nfrh ub wf n bsbrjab bjvsriffn bzjotnu gzbpcfen ja oir ndujpyn uuztr ybln dbidrmory\n",
    "xvoi opjyyjab dudmqmfa nfya ffofrh. Srrbeyjab uuz dudmqmfa ape nibrjab qnojridr voq  fjayornt, sjs ydtgzovih nouriuvqfyt, bay gbm\n",
    "jzksbqjab uuzje xpzhvaddnojbit ffjygt, vn crdot ptry ja hbat tpcpbgt, zjtg ztczdvvmyt qez-tpcpbgt\"\"\"\n",
    "\n",
    "answer = \"\"\"There does seem to be a growing awareness amongst teachers in the schools these days concerned\n",
    "with building children self esteem. Rewarding the children for showing patience and  kindness, for listening attentively, and for\n",
    "improving their communications skills, is being used in many schools, most especially pre-schools\"\"\"\n",
    "\n",
    "key = \"VBN\"\n",
    "\n",
    "cipher = \"vignere\"\n",
    "\n",
    "# single characters: n -> i,a\n",
    "# vn -> _i,_a - pi? not common\n",
    "# repeating chars: uu"
   ]
  },
  {
   "cell_type": "markdown",
   "metadata": {},
   "source": [
    "# Task 2"
   ]
  },
  {
   "cell_type": "code",
   "execution_count": 10,
   "metadata": {},
   "outputs": [
    {
     "name": "stdout",
     "output_type": "stream",
     "text": [
      "3c 91 1d 91 0f 86 0d 9c 0b 86 1d d4 07 9a 4e c5\n",
      "57 c6 57 d4 0f 80 4e a4 1c 9d 00 97 0b 80 01 9a\n",
      "4e a1 00 9d 18 91 1c 87 07 80 17 d4 1a 81 1c 9a\n",
      "0b 90 4e 95 4e 98 07 82 07 9a 09 d4 0d 95 1a d4\n",
      "07 9a 1a 9b 4e 95 4e 80 0b 98 0b 84 06 9b 00 91\n",
      "63 fe\n",
      "\n"
     ]
    }
   ],
   "source": [
    "## import message\n",
    "def format_hex_display(data, bytes_per_row=16):\n",
    "    formatted_hex = \"\"\n",
    "    for i in range(0, len(data), bytes_per_row * 2):\n",
    "        # Grab a slice of the hex string corresponding to the number of bytes per row\n",
    "        row = data[i:i + bytes_per_row * 2]\n",
    "        # Break the row into byte-pairs (2 characters each)\n",
    "        byte_pairs = ' '.join(row[j:j+2] for j in range(0, len(row), 2))\n",
    "        formatted_hex += byte_pairs + '\\n'\n",
    "    return formatted_hex\n",
    "\n",
    "with open('21.hex', 'rb') as file:\n",
    "    message2 = file.read()  # Read the entire content of the file as bytes\n",
    "    hex_data = message2.hex()  # Convert the bytes\n",
    "\n",
    "# Print formatted hex values\n",
    "print(format_hex_display(hex_data))\n",
    "#print(hex_data)"
   ]
  },
  {
   "cell_type": "code",
   "execution_count": 42,
   "metadata": {},
   "outputs": [],
   "source": [
    "m2_string = \"\"\"3c 91 1d 91 0f 86 0d 9c 0b 86 1d d4 07 9a 4e c5\n",
    "               57 c6 57 d4 0f 80 4e a4 1c 9d 00 97 0b 80 01 9a\n",
    "               4e a1 00 9d 18 91 1c 87 07 80 17 d4 1a 81 1c 9a\n",
    "               0b 90 4e 95 4e 98 07 82 07 9a 09 d4 0d 95 1a d4\n",
    "               07 9a 1a 9b 4e 95 4e 80 0b 98 0b 84 06 9b 00 91\n",
    "               63 fe\"\"\"\n",
    "\n",
    "# Convert the hex string to a list of integers\n",
    "m2_bytes = [int(byte, 16) for byte in m2_string.split()]\n",
    "\n",
    "#ANSWER: XOR 2 Byte Key. Use first letter. \n",
    "\n",
    "# 38 unique bytes\n",
    "# first letter is R\n",
    "# Freq: '4e': 7, '0b': 5, 'd4': 5, '07': 5, '9a': 5, '91': 4, '80': 4, '1c': 3, '00': 3, '1a': 3, '95': 3, '1d': 2, '0f': 2, '86': 2, '0d': 2\n",
    "\n",
    "# Kasisiki: 4e: GCD=2\n",
    "# IC: 0.03 - very flat distribution\n"
   ]
  },
  {
   "cell_type": "code",
   "execution_count": 86,
   "metadata": {},
   "outputs": [
    {
     "name": "stdout",
     "output_type": "stream",
     "text": [
      "Key (hex): 0x6e\n",
      "Decrypted Message (stripped): R-s-a-c-e-s-i- -9-9-a- -r-n-e-o- -n-v-r-i-y-t-r-e- - -i-i-g-c-t-i-t- - -e-e-h-n---\n",
      "Single Character Words: {51: '-', 69: '-'}\n",
      "Potential Keys (hex): ['0xfc', '0xf4']\n",
      "Potential Decryptions:\n",
      "  0 : -m-m-z-`-z-(-f-9-:-(-|-X-a-k-|-f-]-a-m-{-|-(-}-f-l-i-d-~-f-(-i-(-f-g-i-|-d-x-g-m--\n",
      "  1 : -e-e-r-h-r- -n-1-2- -t-P-i-c-t-n-U-i-e-s-t- -u-n-d-a-l-v-n- -a- -n-o-a-t-l-p-o-e--\n",
      "Decrypted Message: Researchers in 1929 at Princeton University turned a living cat into a telephone--\n"
     ]
    }
   ],
   "source": [
    "# XOR the first byte with 'R' to get the key\n",
    "key_1 = m2_bytes[0] ^ ord('R')\n",
    "print(\"Key (hex):\", hex(key_1))\n",
    "\n",
    "# XOR every byte with the key\n",
    "decrypted_key1 = [byte ^ key_1 for byte in m2_bytes]\n",
    "\n",
    "# ascii values for printable characters are 32-126\n",
    "# print ascii for each byte in decrypted - if no char then print '-'\n",
    "decrypted_string = ''.join(chr(byte) if 32 <= byte <= 126 else '-' for byte in decrypted_key1)\n",
    "print(\"Decrypted Message (stripped):\", decrypted_string)\n",
    "\n",
    "## ANALYSE OUTPUTTED STRING\n",
    "\n",
    "# find index of single character words\n",
    "words = decrypted_string.split()\n",
    "single_char_words = {}\n",
    "i = 0\n",
    "for word in words:\n",
    "    if len(word) == 1:\n",
    "        single_char_words[i] = word\n",
    "    i += (len(word) + 1)\n",
    "print(\"Single Character Words:\", single_char_words)\n",
    "\n",
    "# find potential second key\n",
    "potential_keys = []\n",
    "for i in single_char_words.keys():\n",
    "    potential_keys.append(m2_bytes[i] ^ ord('i'))\n",
    "    potential_keys.append(m2_bytes[i] ^ ord('a'))\n",
    "\n",
    "# remove duplicates\n",
    "potential_keys = list(set(potential_keys))\n",
    "print(\"Potential Keys (hex):\", [hex(key) for key in potential_keys])\n",
    "\n",
    "# print potential decryptions with second key - only printable ascii characters\n",
    "print(\"Potential Decryptions:\")\n",
    "for i, key in enumerate(potential_keys):\n",
    "    decrypted_key2 = [byte ^ key for byte in m2_bytes]\n",
    "    decrypted_string2 = ''.join(chr(byte) if 32 <= byte <= 126 else '-' for byte in decrypted_key2)\n",
    "    print(\" \", i , \":\" ,decrypted_string2)\n",
    "\n",
    "# choose second key \n",
    "key_2 = potential_keys[1]\n",
    "\n",
    "# decrypt even indexes with key 1 and odd indexes with key 2\n",
    "decrypted = []\n",
    "for i, byte in enumerate(m2_bytes):\n",
    "    if i % 2 == 0:\n",
    "        decrypted.append(byte ^ key_1)\n",
    "    else:\n",
    "        decrypted.append(byte ^ key_2)\n",
    "\n",
    "# print decrypted message\n",
    "decrypted_string = ''.join(chr(byte) if 32 <= byte <= 126 else '-' for byte in decrypted)\n",
    "print(\"Decrypted Message:\", decrypted_string)\n"
   ]
  },
  {
   "cell_type": "code",
   "execution_count": 82,
   "metadata": {},
   "outputs": [
    {
     "name": "stdout",
     "output_type": "stream",
     "text": [
      "Hx :  C  :  P  : Ascii\n",
      "3c :  60 :  82 : R\n",
      "91 : 145 : 101 : e\n",
      "1d :  29 : 115 : s\n",
      "91 : 145 : 101 : e\n",
      "0f :  15 :  97 : a\n",
      "86 : 134 : 114 : r\n",
      "0d :  13 :  99 : c\n",
      "9c : 156 : 104 : h\n",
      "0b :  11 : 101 : e\n",
      "86 : 134 : 114 : r\n",
      "1d :  29 : 115 : s\n",
      "d4 : 212 :  32 : space\n",
      "07 :   7 : 105 : i\n",
      "9a : 154 : 110 : n\n",
      "4e :  78 :  32 : space\n",
      "c5 : 197 :  49 : 1\n",
      "57 :  87 :  57 : 9\n",
      "c6 : 198 :  50 : 2\n",
      "57 :  87 :  57 : 9\n",
      "d4 : 212 :  32 : space\n",
      "0f :  15 :  97 : a\n",
      "80 : 128 : 116 : t\n",
      "4e :  78 :  32 : space\n",
      "a4 : 164 :  80 : P\n",
      "1c :  28 : 114 : r\n",
      "9d : 157 : 105 : i\n",
      "00 :   0 : 110 : n\n",
      "97 : 151 :  99 : c\n",
      "0b :  11 : 101 : e\n",
      "80 : 128 : 116 : t\n",
      "01 :   1 : 111 : o\n",
      "9a : 154 : 110 : n\n",
      "4e :  78 :  32 : space\n",
      "a1 : 161 :  85 : U\n",
      "00 :   0 : 110 : n\n",
      "9d : 157 : 105 : i\n",
      "18 :  24 : 118 : v\n",
      "91 : 145 : 101 : e\n",
      "1c :  28 : 114 : r\n",
      "87 : 135 : 115 : s\n",
      "07 :   7 : 105 : i\n",
      "80 : 128 : 116 : t\n",
      "17 :  23 : 121 : y\n",
      "d4 : 212 :  32 : space\n",
      "1a :  26 : 116 : t\n",
      "81 : 129 : 117 : u\n",
      "1c :  28 : 114 : r\n",
      "9a : 154 : 110 : n\n",
      "0b :  11 : 101 : e\n",
      "90 : 144 : 100 : d\n",
      "4e :  78 :  32 : space\n",
      "95 : 149 :  97 : a\n",
      "4e :  78 :  32 : space\n",
      "98 : 152 : 108 : l\n",
      "07 :   7 : 105 : i\n",
      "82 : 130 : 118 : v\n",
      "07 :   7 : 105 : i\n",
      "9a : 154 : 110 : n\n",
      "09 :   9 : 103 : g\n",
      "d4 : 212 :  32 : space\n",
      "0d :  13 :  99 : c\n",
      "95 : 149 :  97 : a\n",
      "1a :  26 : 116 : t\n",
      "d4 : 212 :  32 : space\n",
      "07 :   7 : 105 : i\n",
      "9a : 154 : 110 : n\n",
      "1a :  26 : 116 : t\n",
      "9b : 155 : 111 : o\n",
      "4e :  78 :  32 : space\n",
      "95 : 149 :  97 : a\n",
      "4e :  78 :  32 : space\n",
      "80 : 128 : 116 : t\n",
      "0b :  11 : 101 : e\n",
      "98 : 152 : 108 : l\n",
      "0b :  11 : 101 : e\n",
      "84 : 132 : 112 : p\n",
      "06 :   6 : 104 : h\n",
      "9b : 155 : 111 : o\n",
      "00 :   0 : 110 : n\n",
      "91 : 145 : 101 : e\n",
      "63 :  99 :  13 : -\n",
      "fe : 254 :  10 : -\n"
     ]
    }
   ],
   "source": [
    "## sanity check\n",
    "def fmt(byte):\n",
    "    if byte < 10:\n",
    "        return \"  \" + str(byte)\n",
    "    elif byte < 100:\n",
    "        return \" \" + str(byte)\n",
    "    else:\n",
    "        return str(byte)\n",
    "\n",
    "print(\"Hx\",\":\",\" C \",\":\",\" P \",\":\",\"Ascii\")\n",
    "for i in range(0, len(m2_bytes)):\n",
    "    hex_str = hex(m2_bytes[i])[2:]\n",
    "    if len(hex_str) == 1:\n",
    "        hex_str = \"0\" + hex_str\n",
    "    ds = decrypted_string[i]\n",
    "    if ds == \" \": \n",
    "        ds = \"space\"\n",
    "    print(hex_str,\":\",fmt(m2_bytes[i]),\":\",fmt(decrypted[i]),\":\", ds)\n",
    "    \n",
    "## Why are there 2 non decrypted characters at the end? "
   ]
  },
  {
   "cell_type": "code",
   "execution_count": 98,
   "metadata": {},
   "outputs": [
    {
     "name": "stdout",
     "output_type": "stream",
     "text": [
      "\\n == 10\n",
      "\\r == 13\n",
      "Decrypted Message (final): Researchers in 1929 at Princeton University turned a living cat into a telephone\n",
      "this should continue onto the next line\n"
     ]
    }
   ],
   "source": [
    "# final two decrypted characters in decimal: 10 13\n",
    "# 10: newline\n",
    "print(\"\\\\n == \" + str(ord(\"\\n\")))\n",
    "\n",
    "# 13: carriage return\n",
    "print(\"\\\\r == \" + str(ord(\"\\r\")))\n",
    "\n",
    "# Therefore final message is \n",
    "decrypted_final = decrypted_string[:-2] + \"\\r\\n\"\n",
    "print(\"Decrypted Message (final):\", decrypted_final + \"this should continue onto the next line\")\n",
    "\n",
    "# le boom"
   ]
  },
  {
   "cell_type": "code",
   "execution_count": 10,
   "metadata": {},
   "outputs": [
    {
     "name": "stdout",
     "output_type": "stream",
     "text": [
      "[('4e', 7), ('0b', 5), ('d4', 5), ('07', 5), ('9a', 5), ('91', 4), ('80', 4), ('1c', 3), ('00', 3), ('1a', 3)]\n"
     ]
    }
   ],
   "source": [
    "## frequncy analysis\n",
    "from collections import Counter\n",
    "\n",
    "# Convert the string of hex data into a list of byte pairs\n",
    "hex_pairs = [hex_data[i:i+2] for i in range(0, len(hex_data), 2)]\n",
    "\n",
    "# Frequency analysis\n",
    "frequency = Counter(hex_pairs)\n",
    "print(frequency.most_common(10))\n"
   ]
  },
  {
   "cell_type": "code",
   "execution_count": 7,
   "metadata": {},
   "outputs": [
    {
     "name": "stdout",
     "output_type": "stream",
     "text": [
      "IC: 0.028003613369467027\n"
     ]
    }
   ],
   "source": [
    "## index of coincidence\n",
    "def index_of_coincidence(data):\n",
    "    n = len(data)\n",
    "    if n <= 1:\n",
    "        return 0\n",
    "    frequency = Counter(data)\n",
    "    numerator = sum(count * (count - 1) for count in frequency.values())\n",
    "    denominator = n * (n - 1)\n",
    "    return numerator / denominator\n",
    "\n",
    "# Convert the hex_data string to a list of byte values (integers)\n",
    "hex_to_int_bytes = [int(hex_data[i:i+2], 16) for i in range(0, len(hex_data), 2)]\n",
    "\n",
    "# Calculate the Index of Coincidence\n",
    "ic = index_of_coincidence(hex_to_int_bytes)\n",
    "print(\"IC:\", ic)\n",
    "#print(hex_to_int_bytes)"
   ]
  },
  {
   "cell_type": "markdown",
   "metadata": {},
   "source": [
    "# Task 3"
   ]
  },
  {
   "cell_type": "code",
   "execution_count": null,
   "metadata": {},
   "outputs": [],
   "source": [
    "message = \"osasangnftrunsnahtfiwettarawctteeilthomyeonsbasgriiueorw\"\n",
    "\n",
    "# Columnar Transposition cipher"
   ]
  }
 ],
 "metadata": {
  "kernelspec": {
   "display_name": "base",
   "language": "python",
   "name": "python3"
  },
  "language_info": {
   "codemirror_mode": {
    "name": "ipython",
    "version": 3
   },
   "file_extension": ".py",
   "mimetype": "text/x-python",
   "name": "python",
   "nbconvert_exporter": "python",
   "pygments_lexer": "ipython3",
   "version": "3.11.5"
  }
 },
 "nbformat": 4,
 "nbformat_minor": 2
}

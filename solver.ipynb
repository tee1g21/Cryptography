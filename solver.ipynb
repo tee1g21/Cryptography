{
 "cells": [
  {
   "cell_type": "markdown",
   "metadata": {},
   "source": [
    "# Task 1"
   ]
  },
  {
   "cell_type": "code",
   "execution_count": null,
   "metadata": {},
   "outputs": [],
   "source": [
    "message = \"\"\"Oirmf qjff nfrh ub wf n bsbrjab bjvsriffn bzjotnu gzbpcfen ja oir ndujpyn uuztr ybln dbidrmory\n",
    "xvoi opjyyjab dudmqmfa nfya ffofrh. Srrbeyjab uuz dudmqmfa ape nibrjab qnojridr voq  fjayornt, sjs ydtgzovih nouriuvqfyt, bay gbm\n",
    "jzksbqjab uuzje xpzhvaddnojbit ffjygt, vn crdot ptry ja hbat tpcpbgt, zjtg ztczdvvmyt qez-tpcpbgt\"\"\"\n",
    "\n",
    "answer = \"\"\"There does seem to be a growing awareness amongst teachers in the schools these days concerned\n",
    "with building children self esteem. Rewarding the children for showing patience and  kindness, for listening attentively, and for\n",
    "improving their communications skills, is being used in many schools, most especially pre-schools\"\"\"\n",
    "\n",
    "key = \"VBN\"\n",
    "\n",
    "cipher = \"vignere\"\n",
    "\n",
    "# single characters: n -> i,a\n",
    "# vn -> _i,_a - pi? not common\n",
    "# repeating chars: uu"
   ]
  },
  {
   "cell_type": "markdown",
   "metadata": {},
   "source": [
    "# Task 2"
   ]
  },
  {
   "cell_type": "code",
   "execution_count": 12,
   "metadata": {},
   "outputs": [
    {
     "name": "stdout",
     "output_type": "stream",
     "text": [
      "3c 91 1d 91 0f 86 0d 9c 0b 86 1d d4 07 9a 4e c5\n",
      "57 c6 57 d4 0f 80 4e a4 1c 9d 00 97 0b 80 01 9a\n",
      "4e a1 00 9d 18 91 1c 87 07 80 17 d4 1a 81 1c 9a\n",
      "0b 90 4e 95 4e 98 07 82 07 9a 09 d4 0d 95 1a d4\n",
      "07 9a 1a 9b 4e 95 4e 80 0b 98 0b 84 06 9b 00 91\n",
      "63 fe\n",
      "\n"
     ]
    }
   ],
   "source": [
    "## import message\n",
    "def format_hex_display(data, bytes_per_row=16):\n",
    "    formatted_hex = \"\"\n",
    "    for i in range(0, len(data), bytes_per_row * 2):\n",
    "        # Grab a slice of the hex string corresponding to the number of bytes per row\n",
    "        row = data[i:i + bytes_per_row * 2]\n",
    "        # Break the row into byte-pairs (2 characters each)\n",
    "        byte_pairs = ' '.join(row[j:j+2] for j in range(0, len(row), 2))\n",
    "        formatted_hex += byte_pairs + '\\n'\n",
    "    return formatted_hex\n",
    "\n",
    "with open('21.hex', 'rb') as file:\n",
    "    message2 = file.read()  # Read the entire content of the file as bytes\n",
    "    hex_data = message2.hex()  # Convert the bytes\n",
    "\n",
    "# Print formatted hex values\n",
    "print(format_hex_display(hex_data))\n",
    "#print(hex_data)"
   ]
  },
  {
   "cell_type": "code",
   "execution_count": 23,
   "metadata": {},
   "outputs": [
    {
     "name": "stdout",
     "output_type": "stream",
     "text": [
      "110\n",
      "ecrypted Message: Rÿsÿaècòeèsºiô «9¨9ºaî Êrónùeîoô Ïnóvÿréiîyºtïrôeþ û öiìiôgºcûtºiôtõ û îeöeêhõnÿ\n",
      "Decrypted Message with second key: Èeéeûrùhÿré ónº1£2£ ûtºPèiôcÿtõnºUôiìeèsótã îuènÿdºaºlóvóný ùaî ónîoºaºtÿlÿpòoôe\n",
      "\n",
      "Decrypted Message with full key: 滈湥滩湥滻湲滹湨滿湲滩渠滳湮溺渱溣渲溣渠滻湴溺湐滨湩滴湣滿湴滵湮溺湕滴湩滬湥滨湳滳湴滣渠滮湵滨湮滿湤溺湡溺湬滳湶滳湮滽渠滹湡滮渠滳湮滮湯溺湡溺湴滿湬滿湰滲湯滴湥溗渊\n"
     ]
    }
   ],
   "source": [
    "m2_string = \"\"\"3c 91 1d 91 0f 86 0d 9c 0b 86 1d d4 07 9a 4e c5\n",
    "               57 c6 57 d4 0f 80 4e a4 1c 9d 00 97 0b 80 01 9a\n",
    "               4e a1 00 9d 18 91 1c 87 07 80 17 d4 1a 81 1c 9a\n",
    "               0b 90 4e 95 4e 98 07 82 07 9a 09 d4 0d 95 1a d4\n",
    "               07 9a 1a 9b 4e 95 4e 80 0b 98 0b 84 06 9b 00 91\n",
    "               63 fe\"\"\"\n",
    "\n",
    "#ANSWER: XOR 2 Byte Key. Use first letter. \n",
    "\n",
    "# 38 unique bytes\n",
    "# first letter is R\n",
    "# Freq: '4e': 7, '0b': 5, 'd4': 5, '07': 5, '9a': 5, '91': 4, '80': 4, '1c': 3, '00': 3, '1a': 3, '95': 3, '1d': 2, '0f': 2, '86': 2, '0d': 2\n",
    "\n",
    "# Kasisiki: 4e: GCD=2\n",
    "# IC: 0.03 - very flat distribution\n",
    "\n",
    "# Brute force XOR decryption using 3c = R\n",
    "key = ord('R') ^ 0x3c  # Calculate the key using XOR\n",
    "print(key)\n",
    "\n",
    "# Decrypt the message\n",
    "decrypted_message = ''.join(chr(byte ^ key) for byte in message2)\n",
    "\n",
    "print(\"Decrypted Message:\", decrypted_message)\n",
    "\n",
    "# Brute force XOR decryption using û = a\n",
    "second_key = ord('a') ^ ord('û') ^ key # Calculate the second key using XOR\n",
    "\n",
    "# Decrypt the message with the second key\n",
    "decrypted_message2 = ''.join(chr(byte ^ second_key) for byte in message2)\n",
    "\n",
    "print(\"Decrypted Message with second key:\", decrypted_message2)\n",
    "\n",
    "# Concatenate the two keys\n",
    "concatenated_keys = key << 8 | second_key\n",
    "\n",
    "# Decrypt the message with the second key\n",
    "decrypted_message3 = ''.join(chr(byte ^ concatenated_keys) for byte in message2)\n",
    "\n",
    "print(\"Decrypted Message with full key:\", decrypted_message3)"
   ]
  },
  {
   "cell_type": "code",
   "execution_count": 10,
   "metadata": {},
   "outputs": [
    {
     "name": "stdout",
     "output_type": "stream",
     "text": [
      "[('4e', 7), ('0b', 5), ('d4', 5), ('07', 5), ('9a', 5), ('91', 4), ('80', 4), ('1c', 3), ('00', 3), ('1a', 3)]\n"
     ]
    }
   ],
   "source": [
    "## frequncy analysis\n",
    "from collections import Counter\n",
    "\n",
    "# Convert the string of hex data into a list of byte pairs\n",
    "hex_pairs = [hex_data[i:i+2] for i in range(0, len(hex_data), 2)]\n",
    "\n",
    "# Frequency analysis\n",
    "frequency = Counter(hex_pairs)\n",
    "print(frequency.most_common(10))\n"
   ]
  },
  {
   "cell_type": "code",
   "execution_count": 7,
   "metadata": {},
   "outputs": [
    {
     "name": "stdout",
     "output_type": "stream",
     "text": [
      "IC: 0.028003613369467027\n"
     ]
    }
   ],
   "source": [
    "## index of coincidence\n",
    "def index_of_coincidence(data):\n",
    "    n = len(data)\n",
    "    if n <= 1:\n",
    "        return 0\n",
    "    frequency = Counter(data)\n",
    "    numerator = sum(count * (count - 1) for count in frequency.values())\n",
    "    denominator = n * (n - 1)\n",
    "    return numerator / denominator\n",
    "\n",
    "# Convert the hex_data string to a list of byte values (integers)\n",
    "hex_to_int_bytes = [int(hex_data[i:i+2], 16) for i in range(0, len(hex_data), 2)]\n",
    "\n",
    "# Calculate the Index of Coincidence\n",
    "ic = index_of_coincidence(hex_to_int_bytes)\n",
    "print(\"IC:\", ic)\n",
    "#print(hex_to_int_bytes)"
   ]
  },
  {
   "cell_type": "markdown",
   "metadata": {},
   "source": [
    "# Task 3"
   ]
  },
  {
   "cell_type": "code",
   "execution_count": null,
   "metadata": {},
   "outputs": [],
   "source": [
    "message = \"osasangnftrunsnahtfiwettarawctteeilthomyeonsbasgriiueorw\"\n",
    "\n",
    "# Columnar Transposition cipher"
   ]
  }
 ],
 "metadata": {
  "kernelspec": {
   "display_name": "base",
   "language": "python",
   "name": "python3"
  },
  "language_info": {
   "codemirror_mode": {
    "name": "ipython",
    "version": 3
   },
   "file_extension": ".py",
   "mimetype": "text/x-python",
   "name": "python",
   "nbconvert_exporter": "python",
   "pygments_lexer": "ipython3",
   "version": "3.11.5"
  }
 },
 "nbformat": 4,
 "nbformat_minor": 2
}

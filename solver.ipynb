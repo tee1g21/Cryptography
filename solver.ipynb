{
 "cells": [
  {
   "cell_type": "markdown",
   "metadata": {},
   "source": [
    "# Task 1"
   ]
  },
  {
   "cell_type": "code",
   "execution_count": null,
   "metadata": {},
   "outputs": [],
   "source": [
    "message = \"\"\"Oirmf qjff nfrh ub wf n bsbrjab bjvsriffn bzjotnu gzbpcfen ja oir ndujpyn uuztr ybln dbidrmory\n",
    "xvoi opjyyjab dudmqmfa nfya ffofrh. Srrbeyjab uuz dudmqmfa ape nibrjab qnojridr voq  fjayornt, sjs ydtgzovih nouriuvqfyt, bay gbm\n",
    "jzksbqjab uuzje xpzhvaddnojbit ffjygt, vn crdot ptry ja hbat tpcpbgt, zjtg ztczdvvmyt qez-tpcpbgt\"\"\"\n",
    "\n",
    "answer = \"\"\"There does seem to be a growing awareness amongst teachers in the schools these days concerned\n",
    "with building children self esteem. Rewarding the children for showing patience and  kindness, for listening attentively, and for\n",
    "improving their communications skills, is being used in many schools, most especially pre-schools\"\"\"\n",
    "\n",
    "key = \"VBN\"\n",
    "\n",
    "cipher = \"vignere\"\n",
    "\n",
    "# single characters: n -> i,a\n",
    "# vn -> _i,_a - pi? not common\n",
    "# repeating chars: uu"
   ]
  },
  {
   "cell_type": "markdown",
   "metadata": {},
   "source": [
    "# Task 2"
   ]
  },
  {
   "cell_type": "code",
   "execution_count": null,
   "metadata": {},
   "outputs": [
    {
     "name": "stdout",
     "output_type": "stream",
     "text": [
      "3c 91 1d 91 0f 86 0d 9c 0b 86 1d d4 07 9a 4e c5\n",
      "57 c6 57 d4 0f 80 4e a4 1c 9d 00 97 0b 80 01 9a\n",
      "4e a1 00 9d 18 91 1c 87 07 80 17 d4 1a 81 1c 9a\n",
      "0b 90 4e 95 4e 98 07 82 07 9a 09 d4 0d 95 1a d4\n",
      "07 9a 1a 9b 4e 95 4e 80 0b 98 0b 84 06 9b 00 91\n",
      "63 fe\n",
      "\n"
     ]
    }
   ],
   "source": [
    "## import message\n",
    "def format_hex_display(data, bytes_per_row=16):\n",
    "    hex_string = data.hex()\n",
    "    formatted_hex = \"\"\n",
    "    for i in range(0, len(hex_string), bytes_per_row * 2):\n",
    "        # Grab a slice of the hex string corresponding to the number of bytes per row\n",
    "        row = hex_string[i:i + bytes_per_row * 2]\n",
    "        # Break the row into byte-pairs (2 characters each)\n",
    "        byte_pairs = ' '.join(row[j:j+2] for j in range(0, len(row), 2))\n",
    "        formatted_hex += byte_pairs + '\\n'\n",
    "    return formatted_hex\n",
    "\n",
    "with open('21.hex', 'rb') as file:\n",
    "    message2 = file.read()  # Read the entire content of the file as bytes\n",
    "\n",
    "# Print formatted hex values\n",
    "print(format_hex_display(message2))"
   ]
  },
  {
   "cell_type": "code",
   "execution_count": null,
   "metadata": {},
   "outputs": [
    {
     "name": "stdout",
     "output_type": "stream",
     "text": [
      "Counter({'4e': 7, '0b': 5, 'd4': 5, '07': 5, '9a': 5, '91': 4, '80': 4, '1c': 3, '00': 3, '1a': 3, '95': 3, '1d': 2, '0f': 2, '86': 2, '0d': 2, '57': 2, '9d': 2, '98': 2, '9b': 2, '3c': 1, '9c': 1, 'c5': 1, 'c6': 1, 'a4': 1, '97': 1, '01': 1, 'a1': 1, '18': 1, '87': 1, '17': 1, '81': 1, '90': 1, '82': 1, '09': 1, '84': 1, '06': 1, '63': 1, 'fe': 1})\n"
     ]
    }
   ],
   "source": [
    "## frequncy analysis\n",
    "from collections import Counter\n",
    "\n",
    "hex_data = message2.hex()\n",
    "# Convert the string of hex data into a list of byte pairs\n",
    "hex_pairs = [hex_data[i:i+2] for i in range(0, len(hex_data), 2)]\n",
    "\n",
    "# Frequency analysis\n",
    "frequency = Counter(hex_pairs)\n",
    "print(frequency)\n"
   ]
  },
  {
   "cell_type": "code",
   "execution_count": 10,
   "metadata": {},
   "outputs": [
    {
     "name": "stdout",
     "output_type": "stream",
     "text": [
      "Substituted text: ??????????????????????????????????????????????????????????????????????????????????\n"
     ]
    }
   ],
   "source": [
    "# Mapping '3C' to 'R' and creating a simple substitution dictionary based on that\n",
    "# Let's create a basic dictionary that will hold our mappings\n",
    "substitution_dict = {'3C': 'R'}\n",
    "\n",
    "# Substitute in the hex data based on the current dictionary\n",
    "def substitute(hex_pairs, substitution_dict):\n",
    "    text = \"\"\n",
    "    for pair in hex_pairs:\n",
    "        if pair in substitution_dict:\n",
    "            text += substitution_dict[pair]\n",
    "        else:\n",
    "            text += '?'  # Unknown mappings are replaced with '?'\n",
    "    return text\n",
    "\n",
    "# Apply substitution\n",
    "substituted_text = substitute(hex_pairs, substitution_dict)\n",
    "print(\"Substituted text:\", substituted_text)"
   ]
  },
  {
   "cell_type": "markdown",
   "metadata": {},
   "source": [
    "# Task 3"
   ]
  },
  {
   "cell_type": "code",
   "execution_count": null,
   "metadata": {},
   "outputs": [],
   "source": [
    "message = \"osasangnftrunsnahtfiwettarawctteeilthomyeonsbasgriiueorw\""
   ]
  }
 ],
 "metadata": {
  "kernelspec": {
   "display_name": "base",
   "language": "python",
   "name": "python3"
  },
  "language_info": {
   "codemirror_mode": {
    "name": "ipython",
    "version": 3
   },
   "file_extension": ".py",
   "mimetype": "text/x-python",
   "name": "python",
   "nbconvert_exporter": "python",
   "pygments_lexer": "ipython3",
   "version": "3.11.5"
  }
 },
 "nbformat": 4,
 "nbformat_minor": 2
}
